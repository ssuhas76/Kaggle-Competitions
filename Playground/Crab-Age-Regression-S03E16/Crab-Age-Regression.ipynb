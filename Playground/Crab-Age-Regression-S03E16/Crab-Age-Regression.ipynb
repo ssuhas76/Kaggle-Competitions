{
 "cells": [
  {
   "cell_type": "code",
   "execution_count": 34,
   "id": "c6209674-0d65-45e4-98b9-34cf129e201e",
   "metadata": {
    "tags": []
   },
   "outputs": [],
   "source": [
    "import pandas as pd\n",
    "import numpy as np\n",
    "import matplotlib.pyplot as plt\n",
    "%matplotlib inline\n",
    "import seaborn as sns\n",
    "from sklearn.preprocessing import StandardScaler\n",
    "from sklearn.model_selection import train_test_split\n",
    "from sklearn.linear_model import LinearRegression\n",
    "from sklearn.metrics import mean_absolute_error\n",
    "import statsmodels.api as sm\n",
    "from statsmodels.stats.outliers_influence import variance_inflation_factor"
   ]
  },
  {
   "cell_type": "code",
   "execution_count": 35,
   "id": "f92002e9-c7bf-40ce-b3ef-a268ce8ea1ae",
   "metadata": {
    "tags": []
   },
   "outputs": [
    {
     "data": {
      "text/html": [
       "<div>\n",
       "<style scoped>\n",
       "    .dataframe tbody tr th:only-of-type {\n",
       "        vertical-align: middle;\n",
       "    }\n",
       "\n",
       "    .dataframe tbody tr th {\n",
       "        vertical-align: top;\n",
       "    }\n",
       "\n",
       "    .dataframe thead th {\n",
       "        text-align: right;\n",
       "    }\n",
       "</style>\n",
       "<table border=\"1\" class=\"dataframe\">\n",
       "  <thead>\n",
       "    <tr style=\"text-align: right;\">\n",
       "      <th></th>\n",
       "      <th>id</th>\n",
       "      <th>Sex</th>\n",
       "      <th>Length</th>\n",
       "      <th>Diameter</th>\n",
       "      <th>Height</th>\n",
       "      <th>Weight</th>\n",
       "      <th>Shucked Weight</th>\n",
       "      <th>Viscera Weight</th>\n",
       "      <th>Shell Weight</th>\n",
       "      <th>Age</th>\n",
       "    </tr>\n",
       "  </thead>\n",
       "  <tbody>\n",
       "    <tr>\n",
       "      <th>0</th>\n",
       "      <td>0</td>\n",
       "      <td>I</td>\n",
       "      <td>1.5250</td>\n",
       "      <td>1.1750</td>\n",
       "      <td>0.3750</td>\n",
       "      <td>28.973189</td>\n",
       "      <td>12.728926</td>\n",
       "      <td>6.647958</td>\n",
       "      <td>8.348928</td>\n",
       "      <td>9</td>\n",
       "    </tr>\n",
       "    <tr>\n",
       "      <th>1</th>\n",
       "      <td>1</td>\n",
       "      <td>I</td>\n",
       "      <td>1.1000</td>\n",
       "      <td>0.8250</td>\n",
       "      <td>0.2750</td>\n",
       "      <td>10.418441</td>\n",
       "      <td>4.521745</td>\n",
       "      <td>2.324659</td>\n",
       "      <td>3.401940</td>\n",
       "      <td>8</td>\n",
       "    </tr>\n",
       "    <tr>\n",
       "      <th>2</th>\n",
       "      <td>2</td>\n",
       "      <td>M</td>\n",
       "      <td>1.3875</td>\n",
       "      <td>1.1125</td>\n",
       "      <td>0.3750</td>\n",
       "      <td>24.777463</td>\n",
       "      <td>11.339800</td>\n",
       "      <td>5.556502</td>\n",
       "      <td>6.662133</td>\n",
       "      <td>9</td>\n",
       "    </tr>\n",
       "    <tr>\n",
       "      <th>3</th>\n",
       "      <td>3</td>\n",
       "      <td>F</td>\n",
       "      <td>1.7000</td>\n",
       "      <td>1.4125</td>\n",
       "      <td>0.5000</td>\n",
       "      <td>50.660556</td>\n",
       "      <td>20.354941</td>\n",
       "      <td>10.991839</td>\n",
       "      <td>14.996885</td>\n",
       "      <td>11</td>\n",
       "    </tr>\n",
       "    <tr>\n",
       "      <th>4</th>\n",
       "      <td>4</td>\n",
       "      <td>I</td>\n",
       "      <td>1.2500</td>\n",
       "      <td>1.0125</td>\n",
       "      <td>0.3375</td>\n",
       "      <td>23.289114</td>\n",
       "      <td>11.977664</td>\n",
       "      <td>4.507570</td>\n",
       "      <td>5.953395</td>\n",
       "      <td>8</td>\n",
       "    </tr>\n",
       "  </tbody>\n",
       "</table>\n",
       "</div>"
      ],
      "text/plain": [
       "   id Sex  Length  Diameter  Height     Weight  Shucked Weight  \\\n",
       "0   0   I  1.5250    1.1750  0.3750  28.973189       12.728926   \n",
       "1   1   I  1.1000    0.8250  0.2750  10.418441        4.521745   \n",
       "2   2   M  1.3875    1.1125  0.3750  24.777463       11.339800   \n",
       "3   3   F  1.7000    1.4125  0.5000  50.660556       20.354941   \n",
       "4   4   I  1.2500    1.0125  0.3375  23.289114       11.977664   \n",
       "\n",
       "   Viscera Weight  Shell Weight  Age  \n",
       "0        6.647958      8.348928    9  \n",
       "1        2.324659      3.401940    8  \n",
       "2        5.556502      6.662133    9  \n",
       "3       10.991839     14.996885   11  \n",
       "4        4.507570      5.953395    8  "
      ]
     },
     "execution_count": 35,
     "metadata": {},
     "output_type": "execute_result"
    }
   ],
   "source": [
    "train = pd.read_csv('data/train.csv')\n",
    "train.head()"
   ]
  },
  {
   "cell_type": "code",
   "execution_count": 36,
   "id": "1e462871-e3ad-42b3-8b30-ba52df1d6060",
   "metadata": {
    "tags": []
   },
   "outputs": [],
   "source": [
    "X = train.drop(['id','Age'],axis=1)\n",
    "y = train['Age']"
   ]
  },
  {
   "cell_type": "code",
   "execution_count": 37,
   "id": "d743878e-5fb4-44bb-b016-a5864531a3e0",
   "metadata": {
    "tags": []
   },
   "outputs": [
    {
     "data": {
      "text/plain": [
       "((74051, 8), (74051,))"
      ]
     },
     "execution_count": 37,
     "metadata": {},
     "output_type": "execute_result"
    }
   ],
   "source": [
    "X.shape, y.shape"
   ]
  },
  {
   "cell_type": "code",
   "execution_count": 38,
   "id": "e9d6f832-d1f9-431e-886f-0af2f45fee67",
   "metadata": {
    "tags": []
   },
   "outputs": [
    {
     "data": {
      "text/html": [
       "<div>\n",
       "<style scoped>\n",
       "    .dataframe tbody tr th:only-of-type {\n",
       "        vertical-align: middle;\n",
       "    }\n",
       "\n",
       "    .dataframe tbody tr th {\n",
       "        vertical-align: top;\n",
       "    }\n",
       "\n",
       "    .dataframe thead th {\n",
       "        text-align: right;\n",
       "    }\n",
       "</style>\n",
       "<table border=\"1\" class=\"dataframe\">\n",
       "  <thead>\n",
       "    <tr style=\"text-align: right;\">\n",
       "      <th></th>\n",
       "      <th>Length</th>\n",
       "      <th>Diameter</th>\n",
       "      <th>Height</th>\n",
       "      <th>Weight</th>\n",
       "      <th>Shucked Weight</th>\n",
       "      <th>Viscera Weight</th>\n",
       "      <th>Shell Weight</th>\n",
       "      <th>Sex_I</th>\n",
       "      <th>Sex_M</th>\n",
       "    </tr>\n",
       "  </thead>\n",
       "  <tbody>\n",
       "    <tr>\n",
       "      <th>0</th>\n",
       "      <td>1.5250</td>\n",
       "      <td>1.1750</td>\n",
       "      <td>0.3750</td>\n",
       "      <td>28.973189</td>\n",
       "      <td>12.728926</td>\n",
       "      <td>6.647958</td>\n",
       "      <td>8.348928</td>\n",
       "      <td>1</td>\n",
       "      <td>0</td>\n",
       "    </tr>\n",
       "    <tr>\n",
       "      <th>1</th>\n",
       "      <td>1.1000</td>\n",
       "      <td>0.8250</td>\n",
       "      <td>0.2750</td>\n",
       "      <td>10.418441</td>\n",
       "      <td>4.521745</td>\n",
       "      <td>2.324659</td>\n",
       "      <td>3.401940</td>\n",
       "      <td>1</td>\n",
       "      <td>0</td>\n",
       "    </tr>\n",
       "    <tr>\n",
       "      <th>2</th>\n",
       "      <td>1.3875</td>\n",
       "      <td>1.1125</td>\n",
       "      <td>0.3750</td>\n",
       "      <td>24.777463</td>\n",
       "      <td>11.339800</td>\n",
       "      <td>5.556502</td>\n",
       "      <td>6.662133</td>\n",
       "      <td>0</td>\n",
       "      <td>1</td>\n",
       "    </tr>\n",
       "    <tr>\n",
       "      <th>3</th>\n",
       "      <td>1.7000</td>\n",
       "      <td>1.4125</td>\n",
       "      <td>0.5000</td>\n",
       "      <td>50.660556</td>\n",
       "      <td>20.354941</td>\n",
       "      <td>10.991839</td>\n",
       "      <td>14.996885</td>\n",
       "      <td>0</td>\n",
       "      <td>0</td>\n",
       "    </tr>\n",
       "    <tr>\n",
       "      <th>4</th>\n",
       "      <td>1.2500</td>\n",
       "      <td>1.0125</td>\n",
       "      <td>0.3375</td>\n",
       "      <td>23.289114</td>\n",
       "      <td>11.977664</td>\n",
       "      <td>4.507570</td>\n",
       "      <td>5.953395</td>\n",
       "      <td>1</td>\n",
       "      <td>0</td>\n",
       "    </tr>\n",
       "  </tbody>\n",
       "</table>\n",
       "</div>"
      ],
      "text/plain": [
       "   Length  Diameter  Height     Weight  Shucked Weight  Viscera Weight  \\\n",
       "0  1.5250    1.1750  0.3750  28.973189       12.728926        6.647958   \n",
       "1  1.1000    0.8250  0.2750  10.418441        4.521745        2.324659   \n",
       "2  1.3875    1.1125  0.3750  24.777463       11.339800        5.556502   \n",
       "3  1.7000    1.4125  0.5000  50.660556       20.354941       10.991839   \n",
       "4  1.2500    1.0125  0.3375  23.289114       11.977664        4.507570   \n",
       "\n",
       "   Shell Weight  Sex_I  Sex_M  \n",
       "0      8.348928      1      0  \n",
       "1      3.401940      1      0  \n",
       "2      6.662133      0      1  \n",
       "3     14.996885      0      0  \n",
       "4      5.953395      1      0  "
      ]
     },
     "execution_count": 38,
     "metadata": {},
     "output_type": "execute_result"
    }
   ],
   "source": [
    "X = pd.get_dummies(X,drop_first=True)\n",
    "X.head()"
   ]
  },
  {
   "cell_type": "code",
   "execution_count": 39,
   "id": "9f90649b-1f4b-4194-8c70-5a6146477444",
   "metadata": {
    "tags": []
   },
   "outputs": [
    {
     "data": {
      "text/plain": [
       "((59240, 9), (59240,), (14811, 9), (14811,))"
      ]
     },
     "execution_count": 39,
     "metadata": {},
     "output_type": "execute_result"
    }
   ],
   "source": [
    "X_train,X_val,y_train,y_val = train_test_split(X,y,test_size=0.2)\n",
    "X_train.shape,y_train.shape,X_val.shape,y_val.shape"
   ]
  },
  {
   "cell_type": "code",
   "execution_count": 40,
   "id": "849295f0-360f-46be-9896-a3819c6055f6",
   "metadata": {
    "tags": []
   },
   "outputs": [],
   "source": [
    "from sklearn.ensemble import RandomForestRegressor"
   ]
  },
  {
   "cell_type": "code",
   "execution_count": 41,
   "id": "d10905ba-42c1-4a86-86cc-04d203bb3b63",
   "metadata": {
    "tags": []
   },
   "outputs": [],
   "source": [
    "rf = RandomForestRegressor()"
   ]
  },
  {
   "cell_type": "code",
   "execution_count": 42,
   "id": "e50f7859-65e6-475c-a6c9-a411a2824582",
   "metadata": {
    "tags": []
   },
   "outputs": [
    {
     "data": {
      "text/html": [
       "<style>#sk-container-id-1 {color: black;background-color: white;}#sk-container-id-1 pre{padding: 0;}#sk-container-id-1 div.sk-toggleable {background-color: white;}#sk-container-id-1 label.sk-toggleable__label {cursor: pointer;display: block;width: 100%;margin-bottom: 0;padding: 0.3em;box-sizing: border-box;text-align: center;}#sk-container-id-1 label.sk-toggleable__label-arrow:before {content: \"▸\";float: left;margin-right: 0.25em;color: #696969;}#sk-container-id-1 label.sk-toggleable__label-arrow:hover:before {color: black;}#sk-container-id-1 div.sk-estimator:hover label.sk-toggleable__label-arrow:before {color: black;}#sk-container-id-1 div.sk-toggleable__content {max-height: 0;max-width: 0;overflow: hidden;text-align: left;background-color: #f0f8ff;}#sk-container-id-1 div.sk-toggleable__content pre {margin: 0.2em;color: black;border-radius: 0.25em;background-color: #f0f8ff;}#sk-container-id-1 input.sk-toggleable__control:checked~div.sk-toggleable__content {max-height: 200px;max-width: 100%;overflow: auto;}#sk-container-id-1 input.sk-toggleable__control:checked~label.sk-toggleable__label-arrow:before {content: \"▾\";}#sk-container-id-1 div.sk-estimator input.sk-toggleable__control:checked~label.sk-toggleable__label {background-color: #d4ebff;}#sk-container-id-1 div.sk-label input.sk-toggleable__control:checked~label.sk-toggleable__label {background-color: #d4ebff;}#sk-container-id-1 input.sk-hidden--visually {border: 0;clip: rect(1px 1px 1px 1px);clip: rect(1px, 1px, 1px, 1px);height: 1px;margin: -1px;overflow: hidden;padding: 0;position: absolute;width: 1px;}#sk-container-id-1 div.sk-estimator {font-family: monospace;background-color: #f0f8ff;border: 1px dotted black;border-radius: 0.25em;box-sizing: border-box;margin-bottom: 0.5em;}#sk-container-id-1 div.sk-estimator:hover {background-color: #d4ebff;}#sk-container-id-1 div.sk-parallel-item::after {content: \"\";width: 100%;border-bottom: 1px solid gray;flex-grow: 1;}#sk-container-id-1 div.sk-label:hover label.sk-toggleable__label {background-color: #d4ebff;}#sk-container-id-1 div.sk-serial::before {content: \"\";position: absolute;border-left: 1px solid gray;box-sizing: border-box;top: 0;bottom: 0;left: 50%;z-index: 0;}#sk-container-id-1 div.sk-serial {display: flex;flex-direction: column;align-items: center;background-color: white;padding-right: 0.2em;padding-left: 0.2em;position: relative;}#sk-container-id-1 div.sk-item {position: relative;z-index: 1;}#sk-container-id-1 div.sk-parallel {display: flex;align-items: stretch;justify-content: center;background-color: white;position: relative;}#sk-container-id-1 div.sk-item::before, #sk-container-id-1 div.sk-parallel-item::before {content: \"\";position: absolute;border-left: 1px solid gray;box-sizing: border-box;top: 0;bottom: 0;left: 50%;z-index: -1;}#sk-container-id-1 div.sk-parallel-item {display: flex;flex-direction: column;z-index: 1;position: relative;background-color: white;}#sk-container-id-1 div.sk-parallel-item:first-child::after {align-self: flex-end;width: 50%;}#sk-container-id-1 div.sk-parallel-item:last-child::after {align-self: flex-start;width: 50%;}#sk-container-id-1 div.sk-parallel-item:only-child::after {width: 0;}#sk-container-id-1 div.sk-dashed-wrapped {border: 1px dashed gray;margin: 0 0.4em 0.5em 0.4em;box-sizing: border-box;padding-bottom: 0.4em;background-color: white;}#sk-container-id-1 div.sk-label label {font-family: monospace;font-weight: bold;display: inline-block;line-height: 1.2em;}#sk-container-id-1 div.sk-label-container {text-align: center;}#sk-container-id-1 div.sk-container {/* jupyter's `normalize.less` sets `[hidden] { display: none; }` but bootstrap.min.css set `[hidden] { display: none !important; }` so we also need the `!important` here to be able to override the default hidden behavior on the sphinx rendered scikit-learn.org. See: https://github.com/scikit-learn/scikit-learn/issues/21755 */display: inline-block !important;position: relative;}#sk-container-id-1 div.sk-text-repr-fallback {display: none;}</style><div id=\"sk-container-id-1\" class=\"sk-top-container\"><div class=\"sk-text-repr-fallback\"><pre>RandomForestRegressor()</pre><b>In a Jupyter environment, please rerun this cell to show the HTML representation or trust the notebook. <br />On GitHub, the HTML representation is unable to render, please try loading this page with nbviewer.org.</b></div><div class=\"sk-container\" hidden><div class=\"sk-item\"><div class=\"sk-estimator sk-toggleable\"><input class=\"sk-toggleable__control sk-hidden--visually\" id=\"sk-estimator-id-1\" type=\"checkbox\" checked><label for=\"sk-estimator-id-1\" class=\"sk-toggleable__label sk-toggleable__label-arrow\">RandomForestRegressor</label><div class=\"sk-toggleable__content\"><pre>RandomForestRegressor()</pre></div></div></div></div></div>"
      ],
      "text/plain": [
       "RandomForestRegressor()"
      ]
     },
     "execution_count": 42,
     "metadata": {},
     "output_type": "execute_result"
    }
   ],
   "source": [
    "rf.fit(X_train,y_train)"
   ]
  },
  {
   "cell_type": "code",
   "execution_count": 45,
   "id": "c668a024-84d4-482d-a610-903718d0f12e",
   "metadata": {
    "tags": []
   },
   "outputs": [],
   "source": [
    "y_pred = rf.predict(X_val)"
   ]
  },
  {
   "cell_type": "code",
   "execution_count": 46,
   "id": "41bb2e98-8a54-4ca6-818c-9686efd67f2e",
   "metadata": {
    "tags": []
   },
   "outputs": [
    {
     "data": {
      "text/plain": [
       "1.4379177638241847"
      ]
     },
     "execution_count": 46,
     "metadata": {},
     "output_type": "execute_result"
    }
   ],
   "source": [
    "mae_0 = mean_absolute_error(y_val,np.round(y_pred))\n",
    "mae_0"
   ]
  },
  {
   "cell_type": "code",
   "execution_count": 47,
   "id": "fcac80dc-8dfd-4c2d-9b6f-a0b12bc74403",
   "metadata": {
    "tags": []
   },
   "outputs": [
    {
     "data": {
      "text/html": [
       "<div>\n",
       "<style scoped>\n",
       "    .dataframe tbody tr th:only-of-type {\n",
       "        vertical-align: middle;\n",
       "    }\n",
       "\n",
       "    .dataframe tbody tr th {\n",
       "        vertical-align: top;\n",
       "    }\n",
       "\n",
       "    .dataframe thead th {\n",
       "        text-align: right;\n",
       "    }\n",
       "</style>\n",
       "<table border=\"1\" class=\"dataframe\">\n",
       "  <thead>\n",
       "    <tr style=\"text-align: right;\">\n",
       "      <th></th>\n",
       "      <th>id</th>\n",
       "      <th>Sex</th>\n",
       "      <th>Length</th>\n",
       "      <th>Diameter</th>\n",
       "      <th>Height</th>\n",
       "      <th>Weight</th>\n",
       "      <th>Shucked Weight</th>\n",
       "      <th>Viscera Weight</th>\n",
       "      <th>Shell Weight</th>\n",
       "      <th>Age</th>\n",
       "    </tr>\n",
       "  </thead>\n",
       "  <tbody>\n",
       "    <tr>\n",
       "      <th>0</th>\n",
       "      <td>0</td>\n",
       "      <td>I</td>\n",
       "      <td>1.5250</td>\n",
       "      <td>1.1750</td>\n",
       "      <td>0.3750</td>\n",
       "      <td>28.973189</td>\n",
       "      <td>12.728926</td>\n",
       "      <td>6.647958</td>\n",
       "      <td>8.348928</td>\n",
       "      <td>9</td>\n",
       "    </tr>\n",
       "    <tr>\n",
       "      <th>1</th>\n",
       "      <td>1</td>\n",
       "      <td>I</td>\n",
       "      <td>1.1000</td>\n",
       "      <td>0.8250</td>\n",
       "      <td>0.2750</td>\n",
       "      <td>10.418441</td>\n",
       "      <td>4.521745</td>\n",
       "      <td>2.324659</td>\n",
       "      <td>3.401940</td>\n",
       "      <td>8</td>\n",
       "    </tr>\n",
       "    <tr>\n",
       "      <th>2</th>\n",
       "      <td>2</td>\n",
       "      <td>M</td>\n",
       "      <td>1.3875</td>\n",
       "      <td>1.1125</td>\n",
       "      <td>0.3750</td>\n",
       "      <td>24.777463</td>\n",
       "      <td>11.339800</td>\n",
       "      <td>5.556502</td>\n",
       "      <td>6.662133</td>\n",
       "      <td>9</td>\n",
       "    </tr>\n",
       "    <tr>\n",
       "      <th>3</th>\n",
       "      <td>3</td>\n",
       "      <td>F</td>\n",
       "      <td>1.7000</td>\n",
       "      <td>1.4125</td>\n",
       "      <td>0.5000</td>\n",
       "      <td>50.660556</td>\n",
       "      <td>20.354941</td>\n",
       "      <td>10.991839</td>\n",
       "      <td>14.996885</td>\n",
       "      <td>11</td>\n",
       "    </tr>\n",
       "    <tr>\n",
       "      <th>4</th>\n",
       "      <td>4</td>\n",
       "      <td>I</td>\n",
       "      <td>1.2500</td>\n",
       "      <td>1.0125</td>\n",
       "      <td>0.3375</td>\n",
       "      <td>23.289114</td>\n",
       "      <td>11.977664</td>\n",
       "      <td>4.507570</td>\n",
       "      <td>5.953395</td>\n",
       "      <td>8</td>\n",
       "    </tr>\n",
       "  </tbody>\n",
       "</table>\n",
       "</div>"
      ],
      "text/plain": [
       "   id Sex  Length  Diameter  Height     Weight  Shucked Weight  \\\n",
       "0   0   I  1.5250    1.1750  0.3750  28.973189       12.728926   \n",
       "1   1   I  1.1000    0.8250  0.2750  10.418441        4.521745   \n",
       "2   2   M  1.3875    1.1125  0.3750  24.777463       11.339800   \n",
       "3   3   F  1.7000    1.4125  0.5000  50.660556       20.354941   \n",
       "4   4   I  1.2500    1.0125  0.3375  23.289114       11.977664   \n",
       "\n",
       "   Viscera Weight  Shell Weight  Age  \n",
       "0        6.647958      8.348928    9  \n",
       "1        2.324659      3.401940    8  \n",
       "2        5.556502      6.662133    9  \n",
       "3       10.991839     14.996885   11  \n",
       "4        4.507570      5.953395    8  "
      ]
     },
     "execution_count": 47,
     "metadata": {},
     "output_type": "execute_result"
    }
   ],
   "source": [
    "train.head()"
   ]
  },
  {
   "cell_type": "code",
   "execution_count": 15,
   "id": "7a8ea5b0-a891-40bf-9c73-c2b6b393c5d4",
   "metadata": {
    "tags": []
   },
   "outputs": [],
   "source": [
    "lr = LinearRegression()"
   ]
  },
  {
   "cell_type": "code",
   "execution_count": 48,
   "id": "77c737fe-688b-4eb3-8dc6-b9ea5f1a32c4",
   "metadata": {
    "tags": []
   },
   "outputs": [
    {
     "name": "stderr",
     "output_type": "stream",
     "text": [
      "C:\\Users\\HN464GK\\AppData\\Local\\Temp\\ipykernel_19836\\1524494364.py:1: FutureWarning: The default value of numeric_only in DataFrame.corr is deprecated. In a future version, it will default to False. Select only valid columns or specify the value of numeric_only to silence this warning.\n",
      "  sns.heatmap(train.corr())\n"
     ]
    },
    {
     "data": {
      "text/plain": [
       "<Axes: >"
      ]
     },
     "execution_count": 48,
     "metadata": {},
     "output_type": "execute_result"
    },
    {
     "data": {
      "image/png": "[encoded data removed]",
      "text/plain": [
       "<Figure size 640x480 with 2 Axes>"
      ]
     },
     "metadata": {},
     "output_type": "display_data"
    }
   ],
   "source": [
    "sns.heatmap(train.corr())"
   ]
  },
  {
   "cell_type": "code",
   "execution_count": null,
   "id": "5bc2f60b-9936-4127-8458-1afbeee9cecb",
   "metadata": {},
   "outputs": [],
   "source": []
  },
  {
   "cell_type": "code",
   "execution_count": null,
   "id": "c7329fa5-77f6-4a23-9d86-e842cbe7b801",
   "metadata": {},
   "outputs": [],
   "source": []
  },
  {
   "cell_type": "code",
   "execution_count": 16,
   "id": "15ed3f19-df32-41a6-b162-1b3a13ca0edc",
   "metadata": {
    "tags": []
   },
   "outputs": [],
   "source": [
    "model_0 = lr.fit(X_train,y_train)"
   ]
  },
  {
   "cell_type": "code",
   "execution_count": 17,
   "id": "6c71b5cd-2f75-4f4d-a61e-12cede1482f0",
   "metadata": {
    "tags": []
   },
   "outputs": [],
   "source": [
    "y_pred = model_0.predict(X_val)"
   ]
  },
  {
   "cell_type": "code",
   "execution_count": 19,
   "id": "e8778058-752b-4b3a-84f7-496a8c60d519",
   "metadata": {
    "tags": []
   },
   "outputs": [
    {
     "data": {
      "text/plain": [
       "1.4584430490851394"
      ]
     },
     "execution_count": 19,
     "metadata": {},
     "output_type": "execute_result"
    }
   ],
   "source": [
    "from sklearn.metrics import mean_absolute_error\n",
    "\n",
    "mae_0 = mean_absolute_error(y_val,np.round(y_pred))\n",
    "mae_0"
   ]
  },
  {
   "cell_type": "code",
   "execution_count": 20,
   "id": "d69f80e2-71ba-4a60-88d1-0e0c8783cc41",
   "metadata": {
    "tags": []
   },
   "outputs": [],
   "source": []
  },
  {
   "cell_type": "code",
   "execution_count": 28,
   "id": "355d7996-3c6b-47f1-bc1d-13fb84d9ddc1",
   "metadata": {
    "tags": []
   },
   "outputs": [],
   "source": [
    "from sklearn.linear_model import Ridge, RidgeCV, ElasticNet, LassoCV, LassoLarsCV\n",
    "\n",
    "\n",
    "\n",
    "model_lasso = LassoCV(alphas = [1, 0.1, 0.001, 0.0005]).fit(X_train, y_train)"
   ]
  },
  {
   "cell_type": "code",
   "execution_count": 29,
   "id": "25135147-7d9f-4af3-8c4d-3b19c30a87ee",
   "metadata": {
    "tags": []
   },
   "outputs": [
    {
     "data": {
      "text/plain": [
       "1.4648572007291878"
      ]
     },
     "execution_count": 29,
     "metadata": {},
     "output_type": "execute_result"
    }
   ],
   "source": [
    "y_pred = model_lasso.predict(X_val)\n",
    "mae_0 = mean_absolute_error(y_val,np.round(y_pred))\n",
    "mae_0"
   ]
  },
  {
   "cell_type": "code",
   "execution_count": 31,
   "id": "b11a251f-ed1e-461f-8221-ae737ae70047",
   "metadata": {
    "tags": []
   },
   "outputs": [],
   "source": [
    "X_train = sm.add_constant(X_train)\n",
    "model_2 = sm.OLS(y_train,X_train).fit()"
   ]
  },
  {
   "cell_type": "code",
   "execution_count": 33,
   "id": "960fae92-8221-4eb1-897e-18c68829038e",
   "metadata": {
    "tags": []
   },
   "outputs": [
    {
     "name": "stdout",
     "output_type": "stream",
     "text": [
      "                            OLS Regression Results                            \n",
      "==============================================================================\n",
      "Dep. Variable:                    Age   R-squared:                       0.550\n",
      "Model:                            OLS   Adj. R-squared:                  0.550\n",
      "Method:                 Least Squares   F-statistic:                     8035.\n",
      "Date:                Tue, 06 Jun 2023   Prob (F-statistic):               0.00\n",
      "Time:                        23:12:19   Log-Likelihood:            -1.2902e+05\n",
      "No. Observations:               59240   AIC:                         2.581e+05\n",
      "Df Residuals:                   59230   BIC:                         2.582e+05\n",
      "Df Model:                           9                                         \n",
      "Covariance Type:            nonrobust                                         \n",
      "==================================================================================\n",
      "                     coef    std err          t      P>|t|      [0.025      0.975]\n",
      "----------------------------------------------------------------------------------\n",
      "const              3.7522      0.085     44.163      0.000       3.586       3.919\n",
      "Length             1.0943      0.216      5.068      0.000       0.671       1.517\n",
      "Diameter           2.0651      0.268      7.695      0.000       1.539       2.591\n",
      "Height             6.8478      0.259     26.388      0.000       6.339       7.356\n",
      "Weight             0.1942      0.006     31.956      0.000       0.182       0.206\n",
      "Shucked Weight    -0.6151      0.007    -82.932      0.000      -0.630      -0.601\n",
      "Viscera Weight    -0.2237      0.013    -16.793      0.000      -0.250      -0.198\n",
      "Shell Weight       0.5170      0.011     47.075      0.000       0.496       0.539\n",
      "Sex_I             -1.0654      0.028    -37.681      0.000      -1.121      -1.010\n",
      "Sex_M             -0.1313      0.022     -6.107      0.000      -0.174      -0.089\n",
      "==============================================================================\n",
      "Omnibus:                    19393.613   Durbin-Watson:                   1.988\n",
      "Prob(Omnibus):                  0.000   Jarque-Bera (JB):            95421.652\n",
      "Skew:                           1.515   Prob(JB):                         0.00\n",
      "Kurtosis:                       8.430   Cond. No.                     1.17e+03\n",
      "==============================================================================\n",
      "\n",
      "Notes:\n",
      "[1] Standard Errors assume that the covariance matrix of the errors is correctly specified.\n",
      "[2] The condition number is large, 1.17e+03. This might indicate that there are\n",
      "strong multicollinearity or other numerical problems.\n"
     ]
    }
   ],
   "source": [
    "print(model_2.summary())"
   ]
  },
  {
   "cell_type": "code",
   "execution_count": null,
   "id": "e3fbae90-ec6e-4fac-8a7a-15e8372d3eb7",
   "metadata": {},
   "outputs": [],
   "source": []
  },
  {
   "cell_type": "code",
   "execution_count": 11,
   "id": "61064280-b0f5-4e00-be1b-b633955c6b7e",
   "metadata": {
    "tags": []
   },
   "outputs": [],
   "source": [
    "test = pd.read_csv('data/test.csv')"
   ]
  },
  {
   "cell_type": "code",
   "execution_count": 12,
   "id": "deed433f-7479-4cd6-970d-20d30626bba9",
   "metadata": {
    "tags": []
   },
   "outputs": [
    {
     "data": {
      "text/plain": [
       "id                0\n",
       "Sex               0\n",
       "Length            0\n",
       "Diameter          0\n",
       "Height            0\n",
       "Weight            0\n",
       "Shucked Weight    0\n",
       "Viscera Weight    0\n",
       "Shell Weight      0\n",
       "dtype: int64"
      ]
     },
     "execution_count": 12,
     "metadata": {},
     "output_type": "execute_result"
    }
   ],
   "source": [
    "test.isnull().sum()"
   ]
  },
  {
   "cell_type": "code",
   "execution_count": 13,
   "id": "a4d064a9-c2ec-4780-8a13-d2e3222e6f12",
   "metadata": {
    "tags": []
   },
   "outputs": [
    {
     "data": {
      "text/html": [
       "<div>\n",
       "<style scoped>\n",
       "    .dataframe tbody tr th:only-of-type {\n",
       "        vertical-align: middle;\n",
       "    }\n",
       "\n",
       "    .dataframe tbody tr th {\n",
       "        vertical-align: top;\n",
       "    }\n",
       "\n",
       "    .dataframe thead th {\n",
       "        text-align: right;\n",
       "    }\n",
       "</style>\n",
       "<table border=\"1\" class=\"dataframe\">\n",
       "  <thead>\n",
       "    <tr style=\"text-align: right;\">\n",
       "      <th></th>\n",
       "      <th>id</th>\n",
       "      <th>Length</th>\n",
       "      <th>Diameter</th>\n",
       "      <th>Height</th>\n",
       "      <th>Weight</th>\n",
       "      <th>Shucked Weight</th>\n",
       "      <th>Viscera Weight</th>\n",
       "      <th>Shell Weight</th>\n",
       "      <th>Sex_I</th>\n",
       "      <th>Sex_M</th>\n",
       "    </tr>\n",
       "  </thead>\n",
       "  <tbody>\n",
       "    <tr>\n",
       "      <th>0</th>\n",
       "      <td>74051</td>\n",
       "      <td>1.0500</td>\n",
       "      <td>0.7625</td>\n",
       "      <td>0.2750</td>\n",
       "      <td>8.618248</td>\n",
       "      <td>3.657085</td>\n",
       "      <td>1.729319</td>\n",
       "      <td>2.721552</td>\n",
       "      <td>1</td>\n",
       "      <td>0</td>\n",
       "    </tr>\n",
       "    <tr>\n",
       "      <th>1</th>\n",
       "      <td>74052</td>\n",
       "      <td>1.1625</td>\n",
       "      <td>0.8875</td>\n",
       "      <td>0.2750</td>\n",
       "      <td>15.507176</td>\n",
       "      <td>7.030676</td>\n",
       "      <td>3.246018</td>\n",
       "      <td>3.968930</td>\n",
       "      <td>1</td>\n",
       "      <td>0</td>\n",
       "    </tr>\n",
       "    <tr>\n",
       "      <th>2</th>\n",
       "      <td>74053</td>\n",
       "      <td>1.2875</td>\n",
       "      <td>0.9875</td>\n",
       "      <td>0.3250</td>\n",
       "      <td>14.571643</td>\n",
       "      <td>5.556502</td>\n",
       "      <td>3.883882</td>\n",
       "      <td>4.819415</td>\n",
       "      <td>0</td>\n",
       "      <td>0</td>\n",
       "    </tr>\n",
       "    <tr>\n",
       "      <th>3</th>\n",
       "      <td>74054</td>\n",
       "      <td>1.5500</td>\n",
       "      <td>0.9875</td>\n",
       "      <td>0.3875</td>\n",
       "      <td>28.377849</td>\n",
       "      <td>13.380964</td>\n",
       "      <td>6.548735</td>\n",
       "      <td>7.030676</td>\n",
       "      <td>0</td>\n",
       "      <td>0</td>\n",
       "    </tr>\n",
       "    <tr>\n",
       "      <th>4</th>\n",
       "      <td>74055</td>\n",
       "      <td>1.1125</td>\n",
       "      <td>0.8500</td>\n",
       "      <td>0.2625</td>\n",
       "      <td>11.765042</td>\n",
       "      <td>5.528153</td>\n",
       "      <td>2.466407</td>\n",
       "      <td>3.331066</td>\n",
       "      <td>1</td>\n",
       "      <td>0</td>\n",
       "    </tr>\n",
       "  </tbody>\n",
       "</table>\n",
       "</div>"
      ],
      "text/plain": [
       "      id  Length  Diameter  Height     Weight  Shucked Weight  Viscera Weight  \\\n",
       "0  74051  1.0500    0.7625  0.2750   8.618248        3.657085        1.729319   \n",
       "1  74052  1.1625    0.8875  0.2750  15.507176        7.030676        3.246018   \n",
       "2  74053  1.2875    0.9875  0.3250  14.571643        5.556502        3.883882   \n",
       "3  74054  1.5500    0.9875  0.3875  28.377849       13.380964        6.548735   \n",
       "4  74055  1.1125    0.8500  0.2625  11.765042        5.528153        2.466407   \n",
       "\n",
       "   Shell Weight  Sex_I  Sex_M  \n",
       "0      2.721552      1      0  \n",
       "1      3.968930      1      0  \n",
       "2      4.819415      0      0  \n",
       "3      7.030676      0      0  \n",
       "4      3.331066      1      0  "
      ]
     },
     "execution_count": 13,
     "metadata": {},
     "output_type": "execute_result"
    }
   ],
   "source": [
    "test = pd.get_dummies(test,drop_first=True)\n",
    "test.head()"
   ]
  },
  {
   "cell_type": "code",
   "execution_count": 14,
   "id": "6b9857de-c808-4a4e-aac7-0095987998d8",
   "metadata": {
    "tags": []
   },
   "outputs": [],
   "source": [
    "test = test.drop('id',axis=1)"
   ]
  },
  {
   "cell_type": "code",
   "execution_count": 15,
   "id": "bafdcdda-fb03-492c-bf1e-2ca450ff24ee",
   "metadata": {
    "tags": []
   },
   "outputs": [
    {
     "data": {
      "text/plain": [
       "array([[-0.92947065, -1.10363066, -0.79416309, ..., -1.11660983,\n",
       "         1.44602779, -0.75938146],\n",
       "       [-0.53851331, -0.57708136, -0.79416309, ..., -0.76860288,\n",
       "         1.44602779, -0.75938146],\n",
       "       [-0.10411627, -0.15584192, -0.2508817 , ..., -0.53132541,\n",
       "        -0.69154964, -0.75938146],\n",
       "       ...,\n",
       "       [ 0.590919  ,  0.5813271 ,  0.15657934, ...,  0.57596945,\n",
       "        -0.69154964, -0.75938146],\n",
       "       [-0.27787508, -0.31380671, -0.65834274, ..., -0.49177916,\n",
       "        -0.69154964, -0.75938146],\n",
       "       [ 1.19907486,  1.16053133,  0.97150142, ...,  1.05052439,\n",
       "        -0.69154964,  1.31686122]])"
      ]
     },
     "execution_count": 15,
     "metadata": {},
     "output_type": "execute_result"
    }
   ],
   "source": [
    "test = scaler.transform(test)\n",
    "test"
   ]
  },
  {
   "cell_type": "code",
   "execution_count": 16,
   "id": "3276eaf4-ef31-4d19-a7a8-368535ce1956",
   "metadata": {
    "tags": []
   },
   "outputs": [],
   "source": [
    "y_pred = model_0.predict(X)"
   ]
  },
  {
   "cell_type": "code",
   "execution_count": 20,
   "id": "a84c7deb-9488-4cfa-8fae-4c03d6773e23",
   "metadata": {
    "tags": []
   },
   "outputs": [
    {
     "data": {
      "text/plain": [
       "1.4597237039337754"
      ]
     },
     "execution_count": 20,
     "metadata": {},
     "output_type": "execute_result"
    }
   ],
   "source": [
    "from sklearn.metrics import mean_absolute_error\n",
    "\n",
    "mae_0 = mean_absolute_error(y,np.round(y_pred))\n",
    "mae_0"
   ]
  },
  {
   "cell_type": "code",
   "execution_count": 19,
   "id": "b61d1d09-3b6c-41d2-8b9d-36d33d8a0614",
   "metadata": {
    "tags": []
   },
   "outputs": [
    {
     "data": {
      "text/html": [
       "<div>\n",
       "<style scoped>\n",
       "    .dataframe tbody tr th:only-of-type {\n",
       "        vertical-align: middle;\n",
       "    }\n",
       "\n",
       "    .dataframe tbody tr th {\n",
       "        vertical-align: top;\n",
       "    }\n",
       "\n",
       "    .dataframe thead th {\n",
       "        text-align: right;\n",
       "    }\n",
       "</style>\n",
       "<table border=\"1\" class=\"dataframe\">\n",
       "  <thead>\n",
       "    <tr style=\"text-align: right;\">\n",
       "      <th></th>\n",
       "      <th>id</th>\n",
       "      <th>Age</th>\n",
       "    </tr>\n",
       "  </thead>\n",
       "  <tbody>\n",
       "    <tr>\n",
       "      <th>0</th>\n",
       "      <td>74051</td>\n",
       "      <td>7.735472</td>\n",
       "    </tr>\n",
       "    <tr>\n",
       "      <th>1</th>\n",
       "      <td>74052</td>\n",
       "      <td>7.682365</td>\n",
       "    </tr>\n",
       "    <tr>\n",
       "      <th>2</th>\n",
       "      <td>74053</td>\n",
       "      <td>10.432966</td>\n",
       "    </tr>\n",
       "    <tr>\n",
       "      <th>3</th>\n",
       "      <td>74054</td>\n",
       "      <td>9.556131</td>\n",
       "    </tr>\n",
       "    <tr>\n",
       "      <th>4</th>\n",
       "      <td>74055</td>\n",
       "      <td>7.504141</td>\n",
       "    </tr>\n",
       "  </tbody>\n",
       "</table>\n",
       "</div>"
      ],
      "text/plain": [
       "      id        Age\n",
       "0  74051   7.735472\n",
       "1  74052   7.682365\n",
       "2  74053  10.432966\n",
       "3  74054   9.556131\n",
       "4  74055   7.504141"
      ]
     },
     "execution_count": 19,
     "metadata": {},
     "output_type": "execute_result"
    }
   ],
   "source": [
    "sample_submission_df = pd.read_csv('data/sample_submission.csv')\n",
    "sample_submission_df['Age'] = model_0.predict(test)\n",
    "sample_submission_df.to_csv('data/submission0.csv', index=False)\n",
    "sample_submission_df.head()"
   ]
  },
  {
   "cell_type": "code",
   "execution_count": 24,
   "id": "b5f7cee7-e141-4a2d-90ed-716e255a6020",
   "metadata": {
    "tags": []
   },
   "outputs": [],
   "source": [
    "from sklearn.linear_model import Ridge, RidgeCV, ElasticNet, LassoCV, LassoLarsCV\n",
    "\n",
    "\n",
    "\n",
    "model_lasso = LassoCV(alphas = [1, 0.1, 0.001, 0.0005]).fit(X_train, y_train)"
   ]
  },
  {
   "cell_type": "code",
   "execution_count": null,
   "id": "ef156210-8259-4d1f-982b-267b0ba1c00a",
   "metadata": {},
   "outputs": [],
   "source": []
  }
 ],
 "metadata": {
  "kernelspec": {
   "display_name": "Python 3 (ipykernel)",
   "language": "python",
   "name": "python3"
  },
  "language_info": {
   "codemirror_mode": {
    "name": "ipython",
    "version": 3
   },
   "file_extension": ".py",
   "mimetype": "text/x-python",
   "name": "python",
   "nbconvert_exporter": "python",
   "pygments_lexer": "ipython3",
   "version": "3.11.2"
  }
 },
 "nbformat": 4,
 "nbformat_minor": 5
}
