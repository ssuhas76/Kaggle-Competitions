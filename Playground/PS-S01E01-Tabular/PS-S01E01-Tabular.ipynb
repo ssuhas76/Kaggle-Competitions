{
 "cells": [
  {
   "cell_type": "code",
   "execution_count": 1,
   "id": "7a44983c-3d8f-403c-ad14-79ba3d8f76a9",
   "metadata": {
    "tags": []
   },
   "outputs": [],
   "source": [
    "import pandas as pd\n",
    "import numpy as np\n",
    "from sklearn.model_selection import train_test_split\n",
    "from sklearn.ensemble import RandomForestRegressor\n",
    "import lightgbm as lgbm\n",
    "from xgboost import XGBRegressor\n",
    "import optuna\n",
    "from sklearn.metrics import mean_squared_error\n",
    "import warnings\n",
    "warnings.filterwarnings('ignore')"
   ]
  },
  {
   "cell_type": "code",
   "execution_count": 2,
   "id": "f3717ac5-513a-446b-8bfc-a588cc6e5b4e",
   "metadata": {
    "tags": []
   },
   "outputs": [],
   "source": [
    "train = pd.read_csv('data/train.csv',index_col=0)\n",
    "test = pd.read_csv('data/test.csv')"
   ]
  },
  {
   "cell_type": "code",
   "execution_count": 3,
   "id": "d7bdf737-5996-48c5-8117-8f995ee9c60f",
   "metadata": {
    "tags": []
   },
   "outputs": [
    {
     "data": {
      "text/plain": [
       "cont1     0\n",
       "cont2     0\n",
       "cont3     0\n",
       "cont4     0\n",
       "cont5     0\n",
       "cont6     0\n",
       "cont7     0\n",
       "cont8     0\n",
       "cont9     0\n",
       "cont10    0\n",
       "cont11    0\n",
       "cont12    0\n",
       "cont13    0\n",
       "cont14    0\n",
       "target    0\n",
       "dtype: int64"
      ]
     },
     "execution_count": 3,
     "metadata": {},
     "output_type": "execute_result"
    }
   ],
   "source": [
    "train.isna().sum()"
   ]
  },
  {
   "cell_type": "code",
   "execution_count": 4,
   "id": "43892343-2cd1-46f9-a84e-fc1b40a1f08f",
   "metadata": {
    "tags": []
   },
   "outputs": [
    {
     "data": {
      "text/plain": [
       "id        0\n",
       "cont1     0\n",
       "cont2     0\n",
       "cont3     0\n",
       "cont4     0\n",
       "cont5     0\n",
       "cont6     0\n",
       "cont7     0\n",
       "cont8     0\n",
       "cont9     0\n",
       "cont10    0\n",
       "cont11    0\n",
       "cont12    0\n",
       "cont13    0\n",
       "cont14    0\n",
       "dtype: int64"
      ]
     },
     "execution_count": 4,
     "metadata": {},
     "output_type": "execute_result"
    }
   ],
   "source": [
    "test.isna().sum()"
   ]
  },
  {
   "cell_type": "code",
   "execution_count": 5,
   "id": "107fb34b-85fc-43b6-af27-a54cef2e8748",
   "metadata": {
    "tags": []
   },
   "outputs": [
    {
     "data": {
      "text/plain": [
       "((240000, 14), (60000, 14), (240000,), (60000,))"
      ]
     },
     "execution_count": 5,
     "metadata": {},
     "output_type": "execute_result"
    }
   ],
   "source": [
    "X_train,X_val,y_train,y_val = train_test_split(train.drop('target',axis=1),train['target'],test_size=0.2)\n",
    "X_train.shape,X_val.shape,y_train.shape,y_val.shape"
   ]
  },
  {
   "cell_type": "code",
   "execution_count": null,
   "id": "05e9463e-42b3-44b7-9251-cce94e3d44bb",
   "metadata": {
    "tags": []
   },
   "outputs": [],
   "source": [
    "def rf_objective(trial):\n",
    "    rf_params = {\n",
    "      'n_estimators': trial.suggest_int('n_estimators', 300, 1000),\n",
    "      'max_depth': trial.suggest_int('max_depth', 2, 32),\n",
    "      'min_samples_split': trial.suggest_int('min_samples_split', 2, 20),\n",
    "      'min_samples_leaf': trial.suggest_int('min_samples_leaf', 1, 20),\n",
    "      'bootstrap': trial.suggest_categorical('bootstrap', [True, False])\n",
    "    }\n",
    "\n",
    "    rf_model=RandomForestRegressor(**rf_params)    \n",
    "    rf_model.fit(X_train,y_train)\n",
    "\n",
    "    rf_rmse = np.sqrt(mean_squared_error(y_val,rf_model.predict(X_val)))\n",
    "    return rf_rmse\n",
    "\n",
    "rf_study = optuna.create_study(direction='minimize')\n",
    "rf_study.optimize(rf_objective, n_trials=50,n_jobs=-1)"
   ]
  },
  {
   "cell_type": "code",
   "execution_count": 6,
   "id": "b2df6320-6c8d-420e-81e8-9bfa82b8ac2e",
   "metadata": {
    "tags": []
   },
   "outputs": [
    {
     "data": {
      "text/plain": [
       "0.7055657687699354"
      ]
     },
     "execution_count": 6,
     "metadata": {},
     "output_type": "execute_result"
    }
   ],
   "source": [
    "rf_best_params = {\n",
    "'n_estimators': 775, \n",
    "'max_depth': 32, \n",
    "'min_samples_split': 3, \n",
    "'min_samples_leaf': 3, \n",
    "'bootstrap': True\n",
    "}\n",
    "\n",
    "rf_best_model=RandomForestRegressor(**rf_best_params)    \n",
    "rf_best_model.fit(X_train,y_train)\n",
    "np.sqrt(mean_squared_error(y_val,rf_best_model.predict(X_val)))"
   ]
  },
  {
   "cell_type": "code",
   "execution_count": 8,
   "id": "ec40c125-f4cd-4bf2-8abe-ed3b45762d5e",
   "metadata": {},
   "outputs": [
    {
     "data": {
      "text/html": [
       "<div>\n",
       "<style scoped>\n",
       "    .dataframe tbody tr th:only-of-type {\n",
       "        vertical-align: middle;\n",
       "    }\n",
       "\n",
       "    .dataframe tbody tr th {\n",
       "        vertical-align: top;\n",
       "    }\n",
       "\n",
       "    .dataframe thead th {\n",
       "        text-align: right;\n",
       "    }\n",
       "</style>\n",
       "<table border=\"1\" class=\"dataframe\">\n",
       "  <thead>\n",
       "    <tr style=\"text-align: right;\">\n",
       "      <th></th>\n",
       "      <th>id</th>\n",
       "      <th>target</th>\n",
       "    </tr>\n",
       "  </thead>\n",
       "  <tbody>\n",
       "    <tr>\n",
       "      <th>0</th>\n",
       "      <td>0</td>\n",
       "      <td>8.039456</td>\n",
       "    </tr>\n",
       "    <tr>\n",
       "      <th>1</th>\n",
       "      <td>2</td>\n",
       "      <td>7.790411</td>\n",
       "    </tr>\n",
       "    <tr>\n",
       "      <th>2</th>\n",
       "      <td>6</td>\n",
       "      <td>7.953302</td>\n",
       "    </tr>\n",
       "    <tr>\n",
       "      <th>3</th>\n",
       "      <td>7</td>\n",
       "      <td>8.100410</td>\n",
       "    </tr>\n",
       "    <tr>\n",
       "      <th>4</th>\n",
       "      <td>10</td>\n",
       "      <td>8.031611</td>\n",
       "    </tr>\n",
       "  </tbody>\n",
       "</table>\n",
       "</div>"
      ],
      "text/plain": [
       "   id    target\n",
       "0   0  8.039456\n",
       "1   2  7.790411\n",
       "2   6  7.953302\n",
       "3   7  8.100410\n",
       "4  10  8.031611"
      ]
     },
     "execution_count": 8,
     "metadata": {},
     "output_type": "execute_result"
    }
   ],
   "source": [
    "sample_submission_df = pd.read_csv('data/sample_submission.csv')\n",
    "sample_submission_df['target'] = rf_best_model.predict(test.drop('id',axis=1))\n",
    "sample_submission_df.to_csv('data/submission-RF.csv', index=False)\n",
    "sample_submission_df.head()"
   ]
  },
  {
   "cell_type": "code",
   "execution_count": null,
   "id": "00501e2e-b341-4447-b455-1be5752dce9c",
   "metadata": {
    "tags": []
   },
   "outputs": [
    {
     "name": "stderr",
     "output_type": "stream",
     "text": [
      "[I 2024-04-11 14:32:28,325] A new study created in memory with name: no-name-40d8c477-d43d-4a5a-89e6-4bfb0e558157\n",
      "[I 2024-04-11 14:43:06,087] Trial 5 finished with value: 0.7055657687699354 and parameters: {'min_child_weight': 9, 'learning_rate': 0.08573061910161554, 'n_estimators': 835, 'max_depth': 4, 'subsample': 0.7937017757861644, 'colsample_bytree': 0.01954373399252951, 'gamma': 0.34430422755048806, 'reg_alpha': 0.29754460320610987, 'reg_lambda': 0.7324263965958584}. Best is trial 5 with value: 0.7055657687699354.\n",
      "[I 2024-04-11 14:43:10,593] Trial 1 finished with value: 0.7055657687699354 and parameters: {'min_child_weight': 5, 'learning_rate': 0.0526307684313507, 'n_estimators': 698, 'max_depth': 4, 'subsample': 0.07054104936228422, 'colsample_bytree': 0.8725787053711869, 'gamma': 0.5761603483153325, 'reg_alpha': 0.40463782002842197, 'reg_lambda': 0.03459086999513139}. Best is trial 5 with value: 0.7055657687699354.\n",
      "[I 2024-04-11 14:54:11,330] Trial 8 finished with value: 0.7055657687699354 and parameters: {'min_child_weight': 3, 'learning_rate': 0.021558046986670996, 'n_estimators': 1109, 'max_depth': 4, 'subsample': 0.0601516250739782, 'colsample_bytree': 0.11348084876599551, 'gamma': 0.0804243408053078, 'reg_alpha': 0.2815158112934364, 'reg_lambda': 0.03481671078600446}. Best is trial 5 with value: 0.7055657687699354.\n",
      "[I 2024-04-11 14:56:37,005] Trial 6 finished with value: 0.7055657687699354 and parameters: {'min_child_weight': 6, 'learning_rate': 0.08254554315396324, 'n_estimators': 1094, 'max_depth': 7, 'subsample': 0.7982438431839332, 'colsample_bytree': 0.1567824390628102, 'gamma': 0.6176862074394495, 'reg_alpha': 0.9428566855175049, 'reg_lambda': 0.37115134264333294}. Best is trial 5 with value: 0.7055657687699354.\n",
      "[I 2024-04-11 15:06:49,555] Trial 4 finished with value: 0.7055657687699354 and parameters: {'min_child_weight': 0, 'learning_rate': 0.032638598510455405, 'n_estimators': 1189, 'max_depth': 10, 'subsample': 0.6068370400408396, 'colsample_bytree': 0.15843110211097255, 'gamma': 0.9180734662220319, 'reg_alpha': 0.5850926630699514, 'reg_lambda': 0.5660269114045662}. Best is trial 5 with value: 0.7055657687699354.\n",
      "[I 2024-04-11 15:07:20,673] Trial 9 finished with value: 0.7055657687699354 and parameters: {'min_child_weight': 4, 'learning_rate': 0.02402899385159005, 'n_estimators': 1777, 'max_depth': 4, 'subsample': 0.1302759119730088, 'colsample_bytree': 0.7475963116854348, 'gamma': 0.6493482275494691, 'reg_alpha': 0.8768903713678112, 'reg_lambda': 0.32100498556704093}. Best is trial 5 with value: 0.7055657687699354.\n",
      "[I 2024-04-11 15:07:47,237] Trial 0 finished with value: 0.7055657687699354 and parameters: {'min_child_weight': 7, 'learning_rate': 0.06807699959991889, 'n_estimators': 887, 'max_depth': 7, 'subsample': 0.8662942605042149, 'colsample_bytree': 0.9485904127124752, 'gamma': 0.5648280130700515, 'reg_alpha': 0.4512623812856206, 'reg_lambda': 0.2687897065780275}. Best is trial 5 with value: 0.7055657687699354.\n",
      "[I 2024-04-11 15:08:32,502] Trial 3 finished with value: 0.7055657687699354 and parameters: {'min_child_weight': 4, 'learning_rate': 0.06344739898651763, 'n_estimators': 1660, 'max_depth': 7, 'subsample': 0.06516093691518732, 'colsample_bytree': 0.3498026305113189, 'gamma': 0.3659068314028753, 'reg_alpha': 0.7502911677947389, 'reg_lambda': 0.4852942199304895}. Best is trial 5 with value: 0.7055657687699354.\n",
      "[I 2024-04-11 15:18:56,586] Trial 14 finished with value: 0.7055657687699354 and parameters: {'min_child_weight': 9, 'learning_rate': 0.01617733420907186, 'n_estimators': 666, 'max_depth': 5, 'subsample': 0.7373862459930998, 'colsample_bytree': 0.257749972849292, 'gamma': 0.7318923937341814, 'reg_alpha': 0.9391403828923606, 'reg_lambda': 0.6219333848927332}. Best is trial 5 with value: 0.7055657687699354.\n",
      "[I 2024-04-11 15:19:19,835] Trial 7 finished with value: 0.7055657687699354 and parameters: {'min_child_weight': 3, 'learning_rate': 0.05654624876885514, 'n_estimators': 1557, 'max_depth': 8, 'subsample': 0.36821008822152623, 'colsample_bytree': 0.4829949290000606, 'gamma': 0.6477116595114506, 'reg_alpha': 0.9498891601889654, 'reg_lambda': 0.427974840653649}. Best is trial 5 with value: 0.7055657687699354.\n",
      "[I 2024-04-11 15:25:44,037] Trial 2 finished with value: 0.7055657687699354 and parameters: {'min_child_weight': 7, 'learning_rate': 0.08668915854123647, 'n_estimators': 1674, 'max_depth': 10, 'subsample': 0.09105373679705708, 'colsample_bytree': 0.3927751027592675, 'gamma': 0.8752735129968289, 'reg_alpha': 0.01070299340195291, 'reg_lambda': 0.5784370375146167}. Best is trial 5 with value: 0.7055657687699354.\n",
      "[I 2024-04-11 15:27:30,506] Trial 11 finished with value: 0.7055657687699354 and parameters: {'min_child_weight': 3, 'learning_rate': 0.026426544986898726, 'n_estimators': 1867, 'max_depth': 5, 'subsample': 0.23581897384344686, 'colsample_bytree': 0.48765940048046397, 'gamma': 0.8324674116745214, 'reg_alpha': 0.28631844375150495, 'reg_lambda': 0.9656715201390166}. Best is trial 5 with value: 0.7055657687699354.\n",
      "[I 2024-04-11 15:28:04,130] Trial 13 finished with value: 0.7055657687699354 and parameters: {'min_child_weight': 9, 'learning_rate': 0.04054185889388117, 'n_estimators': 879, 'max_depth': 9, 'subsample': 0.9937583058044852, 'colsample_bytree': 0.11278398479895979, 'gamma': 0.5686102914364701, 'reg_alpha': 0.1381213131295541, 'reg_lambda': 0.27680298634732703}. Best is trial 5 with value: 0.7055657687699354.\n",
      "[I 2024-04-11 15:33:15,960] Trial 15 finished with value: 0.7055657687699354 and parameters: {'min_child_weight': 10, 'learning_rate': 0.03269430387040147, 'n_estimators': 658, 'max_depth': 9, 'subsample': 0.748285267928103, 'colsample_bytree': 0.4259911041656257, 'gamma': 0.44745093706325345, 'reg_alpha': 0.7470467275028164, 'reg_lambda': 0.9064371247019913}. Best is trial 5 with value: 0.7055657687699354.\n",
      "[I 2024-04-11 15:50:26,539] Trial 18 finished with value: 0.7055657687699354 and parameters: {'min_child_weight': 7, 'learning_rate': 0.04455175093701311, 'n_estimators': 516, 'max_depth': 6, 'subsample': 0.9819793555954608, 'colsample_bytree': 0.9982200835735774, 'gamma': 0.4251302183546685, 'reg_alpha': 0.4326614403139607, 'reg_lambda': 0.03862037601520152}. Best is trial 5 with value: 0.7055657687699354.\n",
      "[I 2024-04-11 15:51:02,956] Trial 20 finished with value: 0.7055657687699354 and parameters: {'min_child_weight': 7, 'learning_rate': 0.0649769738372813, 'n_estimators': 518, 'max_depth': 6, 'subsample': 0.3866170622644565, 'colsample_bytree': 0.9892452797413931, 'gamma': 0.4296971788437534, 'reg_alpha': 0.4935429033496945, 'reg_lambda': 0.00026156822563620785}. Best is trial 5 with value: 0.7055657687699354.\n",
      "[I 2024-04-11 15:51:18,896] Trial 12 finished with value: 0.7055657687699354 and parameters: {'min_child_weight': 3, 'learning_rate': 0.05818975477414407, 'n_estimators': 1841, 'max_depth': 8, 'subsample': 0.9188062500169014, 'colsample_bytree': 0.1189841345622118, 'gamma': 0.2429552921951157, 'reg_alpha': 0.9452263200918679, 'reg_lambda': 0.45550541305544257}. Best is trial 5 with value: 0.7055657687699354.\n",
      "[I 2024-04-11 15:52:51,020] Trial 10 finished with value: 0.7055657687699354 and parameters: {'min_child_weight': 3, 'learning_rate': 0.05535015724870398, 'n_estimators': 1811, 'max_depth': 10, 'subsample': 0.09801406093944542, 'colsample_bytree': 0.22253270580162654, 'gamma': 0.880085700180371, 'reg_alpha': 0.4801476711111953, 'reg_lambda': 0.42040255010120364}. Best is trial 5 with value: 0.7055657687699354.\n",
      "[I 2024-04-11 15:56:06,226] Trial 21 finished with value: 0.7055657687699354 and parameters: {'min_child_weight': 7, 'learning_rate': 0.06955156516402936, 'n_estimators': 507, 'max_depth': 6, 'subsample': 0.3604020922153065, 'colsample_bytree': 0.9871046126521612, 'gamma': 0.26051003826026015, 'reg_alpha': 0.4611913808999514, 'reg_lambda': 0.002126953532384679}. Best is trial 5 with value: 0.7055657687699354.\n",
      "[I 2024-04-11 15:57:31,976] Trial 17 finished with value: 0.7055657687699354 and parameters: {'min_child_weight': 7, 'learning_rate': 0.0988400711039008, 'n_estimators': 503, 'max_depth': 9, 'subsample': 0.9634765443223068, 'colsample_bytree': 0.997370275432471, 'gamma': 0.002732616864820736, 'reg_alpha': 0.10905780500556084, 'reg_lambda': 0.2132604872547329}. Best is trial 5 with value: 0.7055657687699354.\n",
      "[I 2024-04-11 16:03:06,816] Trial 16 finished with value: 0.7055657687699354 and parameters: {'min_child_weight': 3, 'learning_rate': 0.050519319517113886, 'n_estimators': 1601, 'max_depth': 6, 'subsample': 0.1643041448851893, 'colsample_bytree': 0.40971575179903486, 'gamma': 0.8921079053676325, 'reg_alpha': 0.5176160898488745, 'reg_lambda': 0.6826796102400392}. Best is trial 5 with value: 0.7055657687699354.\n",
      "[I 2024-04-11 16:11:36,026] Trial 19 finished with value: 0.7055657687699354 and parameters: {'min_child_weight': 7, 'learning_rate': 0.04373813515714438, 'n_estimators': 580, 'max_depth': 8, 'subsample': 0.9715602753254999, 'colsample_bytree': 0.9377495563138056, 'gamma': 0.43202587103814616, 'reg_alpha': 0.5035613560724319, 'reg_lambda': 0.05466429867139535}. Best is trial 5 with value: 0.7055657687699354.\n",
      "[I 2024-04-11 16:32:56,931] Trial 24 finished with value: 0.7055657687699354 and parameters: {'min_child_weight': 1, 'learning_rate': 0.09903695833121176, 'n_estimators': 882, 'max_depth': 6, 'subsample': 0.5180889893852167, 'colsample_bytree': 0.7607446673753331, 'gamma': 0.7583003460720901, 'reg_alpha': 0.5813231545069338, 'reg_lambda': 0.14800572507583054}. Best is trial 5 with value: 0.7055657687699354.\n",
      "[I 2024-04-11 16:33:50,870] Trial 22 finished with value: 0.7055657687699354 and parameters: {'min_child_weight': 6, 'learning_rate': 0.07136524524599383, 'n_estimators': 898, 'max_depth': 6, 'subsample': 0.5253177833124306, 'colsample_bytree': 0.9721583656678662, 'gamma': 0.18739848777916268, 'reg_alpha': 0.5057547242097462, 'reg_lambda': 0.18582771130423695}. Best is trial 5 with value: 0.7055657687699354.\n",
      "[I 2024-04-11 16:34:35,852] Trial 23 finished with value: 0.7055657687699354 and parameters: {'min_child_weight': 0, 'learning_rate': 0.06929518429488511, 'n_estimators': 924, 'max_depth': 6, 'subsample': 0.5435272641791413, 'colsample_bytree': 0.7722903237532028, 'gamma': 0.2191365567078969, 'reg_alpha': 0.6144214016132822, 'reg_lambda': 0.16752274395996897}. Best is trial 5 with value: 0.7055657687699354.\n",
      "[I 2024-04-11 16:35:39,184] Trial 25 finished with value: 0.7055657687699354 and parameters: {'min_child_weight': 1, 'learning_rate': 0.09973990439580792, 'n_estimators': 910, 'max_depth': 6, 'subsample': 0.5507393512344667, 'colsample_bytree': 0.7748977917018351, 'gamma': 0.20034924410474841, 'reg_alpha': 0.6248152670592364, 'reg_lambda': 0.1972993978209389}. Best is trial 5 with value: 0.7055657687699354.\n",
      "[I 2024-04-11 16:42:00,119] Trial 26 finished with value: 0.7055657687699354 and parameters: {'min_child_weight': 1, 'learning_rate': 0.09835665239793404, 'n_estimators': 1334, 'max_depth': 5, 'subsample': 0.5427498131978201, 'colsample_bytree': 0.7461892648136172, 'gamma': 0.7639446710572135, 'reg_alpha': 0.6197362089034029, 'reg_lambda': 0.2075266165746419}. Best is trial 5 with value: 0.7055657687699354.\n"
     ]
    }
   ],
   "source": [
    "def xgb_objective(trial):\n",
    "    xgb_params = {\n",
    "     'min_child_weight': trial.suggest_int('min_child_weight', 0, 10),\n",
    "     'learning_rate': trial.suggest_float('learning_rate', 0.01, 0.1),\n",
    "     'n_estimators': trial.suggest_int('n_estimators', 500, 2000),\n",
    "     'max_depth': trial.suggest_int('max_depth', 4, 10),\n",
    "     'subsample': trial.suggest_float('subsample', 0, 1.0),\n",
    "     'colsample_bytree': trial.suggest_float('colsample_bytree', 0, 1.0),\n",
    "     'random_state': 42,\n",
    "     'gamma': trial.suggest_float('gamma', 0, 1),\n",
    "     'reg_alpha': trial.suggest_float('reg_alpha', 0, 1),\n",
    "     'reg_lambda': trial.suggest_float('reg_lambda', 0, 1)\n",
    "    }\n",
    "\n",
    "    xgb_model=XGBRegressor(**xgb_params)    \n",
    "    xgb_model.fit(X_train,y_train)\n",
    "\n",
    "    xgb_rmse = np.sqrt(mean_squared_error(y_val,rf_best_model.predict(X_val)))\n",
    "    return xgb_rmse\n",
    "\n",
    "xgb_study = optuna.create_study(direction='minimize')\n",
    "xgb_study.optimize(xgb_objective, n_trials=50,n_jobs=-1)"
   ]
  },
  {
   "cell_type": "code",
   "execution_count": null,
   "id": "15a77df7-ebac-4131-b431-8c2060bfb14f",
   "metadata": {},
   "outputs": [],
   "source": []
  }
 ],
 "metadata": {
  "kernelspec": {
   "display_name": "Python 3 (ipykernel)",
   "language": "python",
   "name": "python3"
  },
  "language_info": {
   "codemirror_mode": {
    "name": "ipython",
    "version": 3
   },
   "file_extension": ".py",
   "mimetype": "text/x-python",
   "name": "python",
   "nbconvert_exporter": "python",
   "pygments_lexer": "ipython3",
   "version": "3.11.2"
  }
 },
 "nbformat": 4,
 "nbformat_minor": 5
}
